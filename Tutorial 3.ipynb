{
 "cells": [
  {
   "cell_type": "code",
   "execution_count": null,
   "metadata": {},
   "outputs": [
    {
     "name": "stdout",
     "output_type": "stream",
     "text": [
      "{'Ten:': 10, 'Twenty:': 20, 'Thirty:': 30, 'Fourty:': 40, 'Fifty:': 50}\n"
     ]
    }
   ],
   "source": [
    "#Write a function to merge 2 dictionaries\n",
    "\n",
    "dict1 = {'Ten:': 10, 'Twenty:': 20, 'Thirty:': 30}\n",
    "dict2 = {'Thirty:': 30, 'Fourty:': 40, 'Fifty:': 50}\n",
    "\n",
    "#Expected output: {'Ten:': 10, 'Twenty:': 20, 'Thirty:': 30, 'Fourty:': 40, 'Fifty:': 50}\n",
    "\n",
    "def merge_dict(dict1, dict2): #function to merge 2 dictionaries\n",
    "    merged_dict = {**dict1, **dict2} #** is used to unpack the dictionary\n",
    "    return merged_dict\n",
    "\n",
    "print(merge_dict(dict1, dict2))"
   ]
  },
  {
   "cell_type": "code",
   "execution_count": 2,
   "metadata": {},
   "outputs": [
    {
     "name": "stdout",
     "output_type": "stream",
     "text": [
      "{'Ten': 10, 'Twenty': 20, 'Thirty': 30}\n"
     ]
    }
   ],
   "source": [
    "#Write a function to convert two lists into a dictionary\n",
    "\n",
    "keys = ['Ten', 'Twenty', 'Thirty']\n",
    "values = [10, 20, 30]\n",
    "\n",
    "#Expected output: {'Ten': 10, 'Twenty': 20, 'Thirty': 30}\n",
    "\n",
    "def lists_to_dict(keys, values):\n",
    "    new_dict = dict(zip(keys, values))\n",
    "    return new_dict\n",
    "\n",
    "print(lists_to_dict(keys, values))"
   ]
  },
  {
   "cell_type": "code",
   "execution_count": null,
   "metadata": {},
   "outputs": [
    {
     "data": {
      "text/plain": [
       "[100, 800, 300, 400, 500]"
      ]
     },
     "execution_count": 3,
     "metadata": {},
     "output_type": "execute_result"
    }
   ],
   "source": [
    "a_tuple = (100,200,300,400,500) # A tuple, which is immutable\n",
    "\n",
    "\n",
    "a_list = [100,200,300,400,500] # A list, which is mutable\n",
    "a_list[1] = 800\n",
    "a_list"
   ]
  },
  {
   "cell_type": "code",
   "execution_count": null,
   "metadata": {},
   "outputs": [
    {
     "name": "stdout",
     "output_type": "stream",
     "text": [
      "[10, 'A', 30]\n",
      "A\n",
      "a\n",
      "25\n"
     ]
    }
   ],
   "source": [
    "a_tuple = ('Orange', [10, 'A', 30], (5, 15, 25))\n",
    "len(a_tuple)\n",
    "\n",
    "print(a_tuple[1])\n",
    "\n",
    "print(a_tuple[1][1]) #subset of the list within the tuple\n",
    "\n",
    "print(a_tuple[0][2])\n",
    "\n",
    "print(a_tuple[2][2])"
   ]
  },
  {
   "cell_type": "code",
   "execution_count": null,
   "metadata": {},
   "outputs": [
    {
     "name": "stdout",
     "output_type": "stream",
     "text": [
      "Emma 23\n"
     ]
    }
   ],
   "source": [
    "# How to define a function\n",
    "\n",
    "def fun1(name, age):\n",
    "    print(name, age)\n",
    "\n",
    "fun1(\"Emma\", age = 23) # The position of the argument is important"
   ]
  },
  {
   "cell_type": "code",
   "execution_count": null,
   "metadata": {},
   "outputs": [],
   "source": [
    "def fun2(nu):\n",
    "    return nu + 25\n",
    "# nu is a local variable, can only be used within the function\n"
   ]
  },
  {
   "cell_type": "code",
   "execution_count": 12,
   "metadata": {},
   "outputs": [
    {
     "name": "stdout",
     "output_type": "stream",
     "text": [
      "emp\n",
      "salary\n"
     ]
    }
   ],
   "source": [
    "def display(dictionary):\n",
    "    for i in dictionary:\n",
    "        print(i)\n",
    "\n",
    "dict = {'emp':'Kelly','salary': 10}\n",
    "\n",
    "display(dict)"
   ]
  },
  {
   "cell_type": "code",
   "execution_count": 13,
   "metadata": {},
   "outputs": [
    {
     "name": "stdout",
     "output_type": "stream",
     "text": [
      "3 None [1, 2, 4]\n"
     ]
    }
   ],
   "source": [
    "x = [1,2,3]\n",
    "y = x.pop() # removes the last element of the list\n",
    "z = x.append(4) # adds an element to the end of the list, but this itself does not have an output, hence NoneType\n",
    "print(y,z,x)\n"
   ]
  },
  {
   "cell_type": "code",
   "execution_count": null,
   "metadata": {},
   "outputs": [
    {
     "name": "stdout",
     "output_type": "stream",
     "text": [
      "10\n"
     ]
    }
   ],
   "source": [
    "def solve(a,b): #define a function with 2 arguments\n",
    "    return b if a == 0 else solve(b % a, a) #recursive function\n",
    "\n",
    "print(solve(20,50)) # a = 20, b = 50\n",
    "\n",
    "# 50 % 20 = 10 \n",
    "# Since a is not equal to 0, the function is called again with a = 10 and b = 20\n",
    "# 20 % 10 = 0\n",
    "# Since a is equal to 0, the function returns b, which is 10\n",
    "# Essentially, the else portion is repeatedly called until a is equal to 0, then the function returns b and the program ends"
   ]
  },
  {
   "cell_type": "code",
   "execution_count": 12,
   "metadata": {},
   "outputs": [
    {
     "name": "stdout",
     "output_type": "stream",
     "text": [
      "[2, 3, 5, 7]\n"
     ]
    }
   ],
   "source": [
    "# Write a function get_primes(n_start, n_end) that returns a list of prime numbers between\n",
    "# n_start and n_end. For example, the output of get_primes(2, 10) should be [2, 3, 5, 7]\n",
    "\n",
    "n_start = input(\"Enter the starting number: \")\n",
    "n_end = input(\"Enter the ending number: \")\n",
    "\n",
    "n_start = int(n_start)\n",
    "n_end = int(n_end)\n",
    "\n",
    "def get_primes(n_start, n_end):\n",
    "    primes = []\n",
    "    for num in range (n_start, n_end + 1):\n",
    "        if num > 1:\n",
    "            for i in range(2, num):\n",
    "                if (num % i) == 0:\n",
    "                    break\n",
    "            else:\n",
    "                primes.append(num)\n",
    "    return primes\n",
    "\n",
    "print(get_primes(n_start, n_end))\n"
   ]
  },
  {
   "cell_type": "code",
   "execution_count": 13,
   "metadata": {},
   "outputs": [
    {
     "name": "stdout",
     "output_type": "stream",
     "text": [
      "822\n"
     ]
    }
   ],
   "source": [
    "# How many prime numbers are there between 400 and 7000?\n",
    "\n",
    "n_start = input(\"Enter the starting number: \")\n",
    "n_end = input(\"Enter the ending number: \")\n",
    "\n",
    "n_start = int(n_start)\n",
    "n_end = int(n_end)\n",
    "\n",
    "def get_primes(n_start, n_end):\n",
    "    primes = []\n",
    "    for num in range (n_start, n_end + 1):\n",
    "        if num > 1:\n",
    "            for i in range(2, num):\n",
    "                if (num % i) == 0:\n",
    "                    break\n",
    "            else:\n",
    "                primes.append(num)\n",
    "    return primes\n",
    "\n",
    "print(len(get_primes(n_start, n_end)))"
   ]
  },
  {
   "cell_type": "code",
   "execution_count": 15,
   "metadata": {},
   "outputs": [
    {
     "name": "stdout",
     "output_type": "stream",
     "text": [
      "428\n"
     ]
    }
   ],
   "source": [
    "# Among all prime numbers between 400 (inclusive) and 7000 (inclusive),\n",
    "# how many of them have no repeated digit?\n",
    "\n",
    "n_start = input(\"Enter the starting number: \")\n",
    "n_end = input(\"Enter the ending number: \")\n",
    "\n",
    "n_start = int(n_start)\n",
    "n_end = int(n_end)\n",
    "\n",
    "def get_primes(n_start, n_end):\n",
    "    primes = []\n",
    "    for num in range (n_start, n_end + 1):\n",
    "        if num > 1:\n",
    "            for i in range(2, num):\n",
    "                if (num % i) == 0:\n",
    "                    break\n",
    "            else:\n",
    "                primes.append(num)\n",
    "    return primes\n",
    "\n",
    "def no_repeated_digit(primes):\n",
    "    no_repeats = []\n",
    "    for prime in primes:\n",
    "        if len(set(str(prime))) == len(str(prime)):\n",
    "            no_repeats.append(prime)\n",
    "    return no_repeats\n",
    "\n",
    "print(len(no_repeated_digit(get_primes(n_start, n_end))))"
   ]
  },
  {
   "cell_type": "code",
   "execution_count": 17,
   "metadata": {},
   "outputs": [
    {
     "name": "stdout",
     "output_type": "stream",
     "text": [
      "822\n"
     ]
    }
   ],
   "source": [
    "# Among all prime numbers between 400 (inclusive) and 7000 (inclusive),\n",
    "# how many of them haver the summation of all digits (for example, 1605\n",
    "# has the summation of all digits to be 12) to be larger than or equal to 2?\n",
    "\n",
    "n_start = input(\"Enter the starting number: \")\n",
    "n_end = input(\"Enter the ending number: \")\n",
    "\n",
    "n_start = int(n_start)\n",
    "n_end = int(n_end)\n",
    "\n",
    "def get_primes(n_start, n_end):\n",
    "    primes = []\n",
    "    for num in range (n_start, n_end + 1):\n",
    "        if num > 1:\n",
    "            for i in range(2, num):\n",
    "                if (num % i) == 0:\n",
    "                    break\n",
    "            else:\n",
    "                primes.append(num)\n",
    "    return primes\n",
    "\n",
    "def summation_of_digits(primes):\n",
    "    summation = []\n",
    "    for prime in primes:\n",
    "        if sum(int(digit) for digit in str(prime)) >= 2:\n",
    "            summation.append(prime)\n",
    "    return summation\n",
    "\n",
    "print(len(summation_of_digits(get_primes(n_start, n_end))))"
   ]
  },
  {
   "cell_type": "code",
   "execution_count": null,
   "metadata": {},
   "outputs": [],
   "source": [
    "(3 > 0 and 5 < 3) + (3 > 0 or 5 < 3) # 0 + 1 = 1\n",
    "\n",
    "(3 > 0) and (5 < 3) # False and False = False\n",
    "\n",
    "(3 > 0 ) or (5 < 3) # True or False = True\n",
    "\n",
    "True + False # 1 + 0 = 1\n",
    "\n",
    "True * False # 1 * 0 = 0"
   ]
  }
 ],
 "metadata": {
  "kernelspec": {
   "display_name": "Python 3",
   "language": "python",
   "name": "python3"
  },
  "language_info": {
   "codemirror_mode": {
    "name": "ipython",
    "version": 3
   },
   "file_extension": ".py",
   "mimetype": "text/x-python",
   "name": "python",
   "nbconvert_exporter": "python",
   "pygments_lexer": "ipython3",
   "version": "3.9.6"
  }
 },
 "nbformat": 4,
 "nbformat_minor": 2
}
